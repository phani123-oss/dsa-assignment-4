{
 "cells": [
  {
   "cell_type": "code",
   "execution_count": 19,
   "id": "28d6a368-d43a-48e9-9e3f-b8d17d9ab3d4",
   "metadata": {},
   "outputs": [
    {
     "name": "stdout",
     "output_type": "stream",
     "text": [
      "22 is the maximum value of given array [13, 1, -3, 22, 5]\n"
     ]
    }
   ],
   "source": [
    "#Q. 3 Print the max value of the array [ 13, 1, -3, 22, 5].\n",
    "\n",
    "#method definition\n",
    "def max_value(arr):\n",
    "    #initialsing maximum value to 0 for comparing\n",
    "    max_value = 0\n",
    "    for num in arr:\n",
    "        #condition to check every number with max\n",
    "        if num > max_value:\n",
    "            max_value = num\n",
    "    return max_value\n",
    "\n",
    "#driver code\n",
    "arr = [ 13, 1, -3, 22, 5]\n",
    "result = max_value(arr)\n",
    "print(f\"{result} is the maximum value of given array {arr}\")"
   ]
  },
  {
   "cell_type": "code",
   "execution_count": 21,
   "id": "77159539-145f-49ac-9679-782447503e3e",
   "metadata": {},
   "outputs": [
    {
     "name": "stdout",
     "output_type": "stream",
     "text": [
      "120 is the sum of values of the array [92, 23, 15, -20, 10]\n"
     ]
    }
   ],
   "source": [
    "#Q.4 Find the sum of the values of the array [92, 23, 15, -20, 10].\n",
    "\n",
    "#method definition\n",
    "def sum_of_values(arr):\n",
    "    #initialsing sum of values to 0 for adding with array elements\n",
    "    sum_of_values = 0\n",
    "    #iterating loop from i to len of array, here len=5\n",
    "    for i in range(len(arr)):\n",
    "        #condition for sum of values\n",
    "        sum_of_values = sum_of_values + arr[i]\n",
    "    return sum_of_values\n",
    "\n",
    "#driver code\n",
    "arr =[92, 23, 15, -20, 10]\n",
    "result = sum_of_values(arr)\n",
    "print(f\"{result} is the sum of values of the array {arr}\")          "
   ]
  },
  {
   "cell_type": "code",
   "execution_count": 7,
   "id": "2566e958-f6a8-4123-a71e-f864708dae97",
   "metadata": {},
   "outputs": [
    {
     "data": {
      "text/plain": [
       "True"
      ]
     },
     "execution_count": 7,
     "metadata": {},
     "output_type": "execute_result"
    }
   ],
   "source": [
    "'''#Q.5 Given a number n. Print if it is an armstrong number or not.An armstrong number is a number if the sum\n",
    "of every digit in that number raised to the power of total digits in that number is equal to the number.\n",
    "Example : 153 = 1^3 + 5^3 + 3^3 = 1 + 125 + 27 = 153 hence 153 is an armstrong number. (Easy)\n",
    "Input1 : 153\n",
    "Output1 : Yes\n",
    "Input 2 : 134\n",
    "Output2 : No'''\n",
    "\n",
    "#method definition\n",
    "def is_armstrong(num):\n",
    "    #initialising sum to 0 for adding \n",
    "    sum = 0\n",
    "    #loop for each digit in num ,we are taking str of num \n",
    "    for digit in str(num):\n",
    "        #condition for adding and cubing each digit\n",
    "        sum += int(digit)**len(str(num))\n",
    "    #condition to check armstrong or not\n",
    "    if sum == num:\n",
    "        return True\n",
    "    else:\n",
    "        return False\n",
    "    \n",
    "#driver code\n",
    "num = 153\n",
    "is_armstrong(num)"
   ]
  },
  {
   "cell_type": "code",
   "execution_count": 26,
   "id": "76b8acd2-0cf8-47bf-99bf-12b6cbe8ac93",
   "metadata": {},
   "outputs": [
    {
     "data": {
      "text/plain": [
       "3"
      ]
     },
     "execution_count": 26,
     "metadata": {},
     "output_type": "execute_result"
    }
   ],
   "source": [
    "num = 153\n",
    "len(str(num))"
   ]
  },
  {
   "cell_type": "code",
   "execution_count": 8,
   "id": "ec42bafe-525f-4b95-b2d3-1c0a228c6869",
   "metadata": {},
   "outputs": [
    {
     "data": {
      "text/plain": [
       "False"
      ]
     },
     "execution_count": 8,
     "metadata": {},
     "output_type": "execute_result"
    }
   ],
   "source": [
    "num = 134\n",
    "is_armstrong(num)"
   ]
  },
  {
   "cell_type": "code",
   "execution_count": 45,
   "id": "f2f92f36-173b-4cb5-a9bb-33bc36bce674",
   "metadata": {},
   "outputs": [],
   "source": [
    "'''Q.1 Can you explain the logic and working of the Tower of Hanoi algorithm by writing a python program?\n",
    "How does the recursion work, and how are the movements of disks between rods accomplished?'''\n",
    "\n",
    "#method definition\n",
    "#here n=no.of disks,s=startingplace ,t=target place where we should place,a=auxilary/helper\n",
    "#moves(n,s,t,a) means moving disks from s to a using a\n",
    "def moves(n,s,t,a):\n",
    "    #base case condtion\n",
    "    if n==1:\n",
    "        return 1\n",
    "    #recursive call\n",
    "    #in onestepn-1 disks from s to a using a , and the single disk can be moved by using one step to target(t) i.e., 1\n",
    "    #also, in another step moving n-1 disks from a to t using s after that adding these conditions to get the required moves.\n",
    "    return moves(n-1,s,t,a)+1+ moves(n-1,a,t,s)"
   ]
  },
  {
   "cell_type": "code",
   "execution_count": 46,
   "id": "7611e51d-5be9-4880-bc69-cb2c79e3ead0",
   "metadata": {},
   "outputs": [
    {
     "data": {
      "text/plain": [
       "15"
      ]
     },
     "execution_count": 46,
     "metadata": {},
     "output_type": "execute_result"
    }
   ],
   "source": [
    "#driver code\n",
    "moves(4,'s','t','a')"
   ]
  },
  {
   "cell_type": "code",
   "execution_count": 47,
   "id": "a36a0b9e-192b-4b6a-acfa-3b912dedf146",
   "metadata": {},
   "outputs": [
    {
     "data": {
      "text/plain": [
       "63"
      ]
     },
     "execution_count": 47,
     "metadata": {},
     "output_type": "execute_result"
    }
   ],
   "source": [
    "moves(6,'s','t','a')"
   ]
  },
  {
   "cell_type": "code",
   "execution_count": null,
   "id": "898a6be8-5599-4def-b7cc-b4a0fa65658e",
   "metadata": {},
   "outputs": [],
   "source": []
  }
 ],
 "metadata": {
  "kernelspec": {
   "display_name": "Python 3 (ipykernel)",
   "language": "python",
   "name": "python3"
  },
  "language_info": {
   "codemirror_mode": {
    "name": "ipython",
    "version": 3
   },
   "file_extension": ".py",
   "mimetype": "text/x-python",
   "name": "python",
   "nbconvert_exporter": "python",
   "pygments_lexer": "ipython3",
   "version": "3.10.8"
  }
 },
 "nbformat": 4,
 "nbformat_minor": 5
}
